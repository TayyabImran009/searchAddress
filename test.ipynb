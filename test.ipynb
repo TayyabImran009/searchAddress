{
 "cells": [
  {
   "cell_type": "code",
   "execution_count": 1,
   "metadata": {},
   "outputs": [
    {
     "ename": "ModuleNotFoundError",
     "evalue": "No module named 'requests'",
     "output_type": "error",
     "traceback": [
      "\u001b[1;31m---------------------------------------------------------------------------\u001b[0m",
      "\u001b[1;31mModuleNotFoundError\u001b[0m                       Traceback (most recent call last)",
      "\u001b[1;32me:\\MyWork\\addressApi\\api\\test.ipynb Cell 1'\u001b[0m in \u001b[0;36m<module>\u001b[1;34m\u001b[0m\n\u001b[1;32m----> <a href='vscode-notebook-cell:/e%3A/MyWork/addressApi/api/test.ipynb#ch0000000?line=0'>1</a>\u001b[0m \u001b[39mimport\u001b[39;00m \u001b[39mrequests\u001b[39;00m\n\u001b[0;32m      <a href='vscode-notebook-cell:/e%3A/MyWork/addressApi/api/test.ipynb#ch0000000?line=1'>2</a>\u001b[0m \u001b[39mimport\u001b[39;00m \u001b[39mjson\u001b[39;00m\n\u001b[0;32m      <a href='vscode-notebook-cell:/e%3A/MyWork/addressApi/api/test.ipynb#ch0000000?line=3'>4</a>\u001b[0m headers \u001b[39m=\u001b[39m {\n\u001b[0;32m      <a href='vscode-notebook-cell:/e%3A/MyWork/addressApi/api/test.ipynb#ch0000000?line=4'>5</a>\u001b[0m    \u001b[39m#'Content-Type': 'application/json',\u001b[39;00m\n\u001b[0;32m      <a href='vscode-notebook-cell:/e%3A/MyWork/addressApi/api/test.ipynb#ch0000000?line=5'>6</a>\u001b[0m    \u001b[39m'\u001b[39m\u001b[39mx-api-key\u001b[39m\u001b[39m'\u001b[39m: \u001b[39m'\u001b[39m\u001b[39mtest-d56ef9dd-00f4-4eab-af9b-284f0c81b0c0\u001b[39m\u001b[39m'\u001b[39m,\n\u001b[0;32m      <a href='vscode-notebook-cell:/e%3A/MyWork/addressApi/api/test.ipynb#ch0000000?line=6'>7</a>\u001b[0m }\n",
      "\u001b[1;31mModuleNotFoundError\u001b[0m: No module named 'requests'"
     ]
    }
   ],
   "source": [
    "import requests\n",
    "import json\n",
    "\n",
    "headers = {\n",
    "   #'Content-Type': 'application/json',\n",
    "   'x-api-key': 'test-d56ef9dd-00f4-4eab-af9b-284f0c81b0c0',\n",
    "}\n",
    "\n",
    "data = {\n",
    "   \"Key\":\"[ANY VALUE YOU WANT]\",\n",
    "   \"FName\":\"\",  # optional\n",
    "   \"LName\":\"\",  # optional\n",
    "   \"Address1\":\"3232 Magnolia Islands Blvd.\",\n",
    "   \"City\":\"Panama City Beach\",\n",
    "   \"State\":\"FL\",\n",
    "   \"Zip\":\"32408\"\n",
    "   }\n",
    "print('https://api.skipengine.com/v2/service', headers, data)\n",
    "response = requests.post('https://api.skipengine.com/v2/service', headers=headers, data=data)\n",
    "j = response.json()\n",
    "print(j)\n"
   ]
  }
 ],
 "metadata": {
  "interpreter": {
   "hash": "611c396835fb16d111e6b4536d7e1c6a14da46b54beecedc1a581864592f7e47"
  },
  "kernelspec": {
   "display_name": "Python 3.9.2 ('en')",
   "language": "python",
   "name": "python3"
  },
  "language_info": {
   "codemirror_mode": {
    "name": "ipython",
    "version": 3
   },
   "file_extension": ".py",
   "mimetype": "text/x-python",
   "name": "python",
   "nbconvert_exporter": "python",
   "pygments_lexer": "ipython3",
   "version": "3.9.2"
  },
  "orig_nbformat": 4
 },
 "nbformat": 4,
 "nbformat_minor": 2
}
